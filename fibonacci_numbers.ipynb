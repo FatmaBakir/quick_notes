{
  "nbformat": 4,
  "nbformat_minor": 0,
  "metadata": {
    "colab": {
      "name": "fibonacci_numbers.ipynb",
      "provenance": []
    },
    "kernelspec": {
      "name": "python3",
      "display_name": "Python 3"
    },
    "language_info": {
      "name": "python"
    }
  },
  "cells": [
    {
      "cell_type": "markdown",
      "metadata": {
        "id": "0Jan_6YJNWBI"
      },
      "source": [
        "###Task : Create a list consisting of Fibonacci numbers from 1 to 55 using control flow statements.\n",
        "\n",
        "The desired output is like :\n",
        "\n",
        "fibonacci →  [1, 1, 2, 3, 5, 8, 13, 21, 34, 55]\n",
        "\n"
      ]
    },
    {
      "cell_type": "code",
      "metadata": {
        "colab": {
          "base_uri": "https://localhost:8080/"
        },
        "id": "AYd0WI8aK8sy",
        "outputId": "23071067-6da7-47be-dedd-dd6dd11b14e6"
      },
      "source": [
        "fibonacci_list = []\n",
        "num1 = 1\n",
        "num2 = 1\n",
        "fibonacci = 0\n",
        "for i in range(1, 11):\n",
        "  num1 = num2\n",
        "  num2 = fibonacci\n",
        "  fibonacci = num1 + num2\n",
        "  fibonacci_list.append(fibonacci)\n",
        "\n",
        "print(fibonacci_list)"
      ],
      "execution_count": 21,
      "outputs": [
        {
          "output_type": "stream",
          "text": [
            "[1, 1, 2, 3, 5, 8, 13, 21, 34, 55]\n"
          ],
          "name": "stdout"
        }
      ]
    }
  ]
}